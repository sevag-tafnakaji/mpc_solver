{
 "cells": [
  {
   "cell_type": "markdown",
   "id": "22192bbf",
   "metadata": {},
   "source": [
    "# MPC Home assignments util resource\n",
    "Python scripts to help solve and implement the home assignments from MPC. These assignments are used to confirm if the implemented MPC solver/scripts are working as expected."
   ]
  },
  {
   "cell_type": "code",
   "execution_count": 52,
   "id": "57473ceb",
   "metadata": {},
   "outputs": [],
   "source": [
    "import numpy as np\n",
    "from scipy.linalg import expm\n",
    "import sympy\n",
    "import pandas as pd\n",
    "import matplotlib.pyplot as plt"
   ]
  },
  {
   "cell_type": "code",
   "execution_count": 21,
   "id": "60e17de6",
   "metadata": {},
   "outputs": [],
   "source": [
    "x1, x2, x3, x4 = sympy.symbols('x1 x2 x3 x4')\n",
    "a, b, p, q = sympy.symbols('a b p q')\n",
    "c, r = sympy.symbols('c r')\n",
    "\n",
    "nl_fx = np.array([[x2],[a*x4+b*sympy.sin(x1)], [x4], [p*x4+q*sympy.sin(x1)]])\n",
    "nl_gx = np.array([[0],[c],[0],[r]])"
   ]
  },
  {
   "cell_type": "code",
   "execution_count": null,
   "id": "5f865afd",
   "metadata": {},
   "outputs": [
    {
     "data": {
      "text/plain": [
       "(array([[ 1.00413823e+00,  1.00137909e-02,  0.00000000e+00,\n",
       "         -4.65491539e-05],\n",
       "        [ 8.28139307e-01,  1.00413823e+00,  0.00000000e+00,\n",
       "         -9.25799940e-03],\n",
       "        [ 2.46812794e-04,  8.25065584e-07,  1.00000000e+00,\n",
       "          9.81331813e-03],\n",
       "        [ 4.90877387e-02,  2.46812794e-04,  0.00000000e+00,\n",
       "          9.62897030e-01]]),\n",
       " array([[0.00070313],\n",
       "        [0.13984374],\n",
       "        [0.00281998],\n",
       "        [0.56046997]]))"
      ]
     },
     "execution_count": 35,
     "metadata": {},
     "output_type": "execute_result"
    }
   ],
   "source": [
    "a = -0.9421\n",
    "b = 82.7231\n",
    "c = 14.2306\n",
    "p = -3.7808\n",
    "q = 4.9952\n",
    "r = 57.1120\n",
    "\n",
    "A_c = np.array([[0, 1, 0, 0],\n",
    "                [b, 0, 0, a],\n",
    "                [0, 0, 0, 1],\n",
    "                [q, 0, 0, p]])\n",
    "\n",
    "B_c = np.array([[0],[c],[0],[r]])\n",
    "\n",
    "C_1 = np.array([[1, 0, 0, 0]])\n",
    "\n",
    "h = 0.01\n",
    "\n",
    "def convert_to_discrete(A_c: np.ndarray, B_c: np.ndarray, h: float):\n",
    "    num_states = A_c.shape[0]\n",
    "    num_inputs = B_c.shape[1]\n",
    "    continuous_matrix = np.concat((A_c, B_c), axis=1)\n",
    "    continuous_matrix = np.concat((continuous_matrix, np.zeros((1, num_states+num_inputs)))) * h\n",
    "\n",
    "    discrete_matrix = expm(continuous_matrix)\n",
    "\n",
    "    A_d = discrete_matrix[:num_states, :num_states]\n",
    "    B_d = discrete_matrix[:num_states, num_states:]\n",
    "\n",
    "    return A_d, B_d\n",
    "\n",
    "\n",
    "A_d, B_d = convert_to_discrete(A_c, B_c, h)\n",
    "\n"
   ]
  },
  {
   "cell_type": "code",
   "execution_count": 50,
   "id": "b0d0b7d3",
   "metadata": {},
   "outputs": [
    {
     "name": "stdout",
     "output_type": "stream",
     "text": [
      "{{1.0, 0.0, 0.0, 0.0},\n",
      "{0.0, 1.0, 0.0, 0.0},\n",
      "{0.0, 0.0, 1.0, 0.0},\n",
      "{0.0, 0.0, 0.0, 1.0}}\n"
     ]
    }
   ],
   "source": [
    "def convert_np_to_cpp(M: np.ndarray):\n",
    "    msg = \"{\"\n",
    "    rows = M.shape[0]\n",
    "    cols = M.shape[1]\n",
    "    for i, row in enumerate(M):\n",
    "        msg += \"{\"\n",
    "        for j, col in enumerate(row):\n",
    "            msg += f\"{round(col, 4)}\"\n",
    "            if j < cols - 1:\n",
    "                msg += \", \"\n",
    "        msg += \"}\"\n",
    "        if i < rows - 1:\n",
    "                msg += \",\\n\"\n",
    "    msg += \"}\"\n",
    "    print(msg)\n",
    "\n",
    "convert_np_to_cpp(np.eye(4))"
   ]
  },
  {
   "cell_type": "code",
   "execution_count": 85,
   "id": "48a34953",
   "metadata": {},
   "outputs": [],
   "source": [
    "r1n40 = pd.read_csv(\"4_R_1.000000_N_40.csv\")\n",
    "r1n80 = pd.read_csv(\"4_R_1.000000_N_80.csv\")\n",
    "r01n40 = pd.read_csv(\"4_R_0.100000_N_40.csv\")\n",
    "r01n80 = pd.read_csv(\"4_R_0.100000_N_80.csv\")\n",
    "\n",
    "# data"
   ]
  },
  {
   "cell_type": "code",
   "execution_count": 86,
   "id": "e40c97f5",
   "metadata": {},
   "outputs": [
    {
     "data": {
      "text/plain": [
       "<matplotlib.legend.Legend at 0x7642a26fc6b0>"
      ]
     },
     "execution_count": 86,
     "metadata": {},
     "output_type": "execute_result"
    },
    {
     "data": {
      "image/png": "[encoded data removed]",
      "text/plain": [
       "<Figure size 640x480 with 1 Axes>"
      ]
     },
     "metadata": {},
     "output_type": "display_data"
    }
   ],
   "source": [
    "t = range(r1n80.shape[0])\n",
    "\n",
    "value = \"u\"\n",
    "\n",
    "plt.plot(t, r1n40[value], label=\"R-1.0-N-40\")\n",
    "plt.plot(t, r1n80[value], label=\"R-1.0-N-80\")\n",
    "plt.plot(t, r01n40[value], label=\"R-0.1-N-40\")\n",
    "plt.plot(t, r01n80[value], label=\"R-0.1-N-80\")\n",
    "plt.legend()"
   ]
  }
 ],
 "metadata": {
  "kernelspec": {
   "display_name": ".env",
   "language": "python",
   "name": "python3"
  },
  "language_info": {
   "codemirror_mode": {
    "name": "ipython",
    "version": 3
   },
   "file_extension": ".py",
   "mimetype": "text/x-python",
   "name": "python",
   "nbconvert_exporter": "python",
   "pygments_lexer": "ipython3",
   "version": "3.12.3"
  }
 },
 "nbformat": 4,
 "nbformat_minor": 5
}
