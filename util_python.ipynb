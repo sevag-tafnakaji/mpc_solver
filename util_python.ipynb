{
 "cells": [
  {
   "cell_type": "markdown",
   "id": "22192bbf",
   "metadata": {},
   "source": [
    "# MPC Home assignments util resource\n",
    "Python scripts to help solve and implement the home assignments from MPC. These assignments are used to confirm if the implemented MPC solver/scripts are working as expected."
   ]
  },
  {
   "cell_type": "code",
   "execution_count": 1,
   "id": "57473ceb",
   "metadata": {},
   "outputs": [],
   "source": [
    "import numpy as np\n",
    "from scipy.linalg import expm\n",
    "import sympy\n",
    "import pandas as pd\n",
    "import matplotlib.pyplot as plt"
   ]
  },
  {
   "cell_type": "code",
   "execution_count": 2,
   "id": "60e17de6",
   "metadata": {},
   "outputs": [],
   "source": [
    "x1, x2, x3, x4 = sympy.symbols('x1 x2 x3 x4')\n",
    "a, b, p, q = sympy.symbols('a b p q')\n",
    "c, r = sympy.symbols('c r')\n",
    "\n",
    "nl_fx = np.array([[x2],[a*x4+b*sympy.sin(x1)], [x4], [p*x4+q*sympy.sin(x1)]])\n",
    "nl_gx = np.array([[0],[c],[0],[r]])"
   ]
  },
  {
   "cell_type": "code",
   "execution_count": 3,
   "id": "5f865afd",
   "metadata": {},
   "outputs": [],
   "source": [
    "a = -0.9421\n",
    "b = 82.7231\n",
    "c = 14.2306\n",
    "p = -3.7808\n",
    "q = 4.9952\n",
    "r = 57.1120\n",
    "\n",
    "A_c = np.array([[0, 1, 0, 0],\n",
    "                [b, 0, 0, a],\n",
    "                [0, 0, 0, 1],\n",
    "                [q, 0, 0, p]])\n",
    "\n",
    "B_c = np.array([[0],[c],[0],[r]])\n",
    "\n",
    "C_1 = np.array([[1, 0, 0, 0]])\n",
    "\n",
    "h = 0.01\n",
    "\n",
    "def convert_to_discrete(A_c: np.ndarray, B_c: np.ndarray, h: float):\n",
    "    num_states = A_c.shape[0]\n",
    "    num_inputs = B_c.shape[1]\n",
    "    continuous_matrix = np.concat((A_c, B_c), axis=1)\n",
    "    continuous_matrix = np.concat((continuous_matrix, np.zeros((1, num_states+num_inputs)))) * h\n",
    "\n",
    "    discrete_matrix = expm(continuous_matrix)\n",
    "\n",
    "    A_d = discrete_matrix[:num_states, :num_states]\n",
    "    B_d = discrete_matrix[:num_states, num_states:]\n",
    "\n",
    "    return A_d, B_d\n",
    "\n",
    "\n",
    "A_d, B_d = convert_to_discrete(A_c, B_c, h)\n",
    "\n"
   ]
  },
  {
   "cell_type": "code",
   "execution_count": 4,
   "id": "b0d0b7d3",
   "metadata": {},
   "outputs": [
    {
     "name": "stdout",
     "output_type": "stream",
     "text": [
      "{{1.0, 0.0, 0.0, 0.0},\n",
      "{0.0, 1.0, 0.0, 0.0},\n",
      "{0.0, 0.0, 1.0, 0.0},\n",
      "{0.0, 0.0, 0.0, 1.0}}\n"
     ]
    }
   ],
   "source": [
    "def convert_np_to_cpp(M: np.ndarray):\n",
    "    msg = \"{\"\n",
    "    rows = M.shape[0]\n",
    "    cols = M.shape[1]\n",
    "    for i, row in enumerate(M):\n",
    "        msg += \"{\"\n",
    "        for j, col in enumerate(row):\n",
    "            msg += f\"{round(col, 4)}\"\n",
    "            if j < cols - 1:\n",
    "                msg += \", \"\n",
    "        msg += \"}\"\n",
    "        if i < rows - 1:\n",
    "                msg += \",\\n\"\n",
    "    msg += \"}\"\n",
    "    print(msg)\n",
    "\n",
    "convert_np_to_cpp(np.eye(4))"
   ]
  },
  {
   "cell_type": "code",
   "execution_count": 5,
   "id": "48a34953",
   "metadata": {},
   "outputs": [],
   "source": [
    "r1n40 = pd.read_csv(\"4_R_1.000000_N_40.csv\")\n",
    "r1n80 = pd.read_csv(\"4_R_1.000000_N_80.csv\")\n",
    "r01n40 = pd.read_csv(\"4_R_0.100000_N_40.csv\")\n",
    "r01n80 = pd.read_csv(\"4_R_0.100000_N_80.csv\")\n",
    "\n",
    "# data\n",
    "\n",
    "test_data = pd.read_csv(\"test_file.csv\")"
   ]
  },
  {
   "cell_type": "code",
   "execution_count": 6,
   "id": "74af342e",
   "metadata": {},
   "outputs": [
    {
     "data": {
      "text/html": [
       "<div>\n",
       "<style scoped>\n",
       "    .dataframe tbody tr th:only-of-type {\n",
       "        vertical-align: middle;\n",
       "    }\n",
       "\n",
       "    .dataframe tbody tr th {\n",
       "        vertical-align: top;\n",
       "    }\n",
       "\n",
       "    .dataframe thead th {\n",
       "        text-align: right;\n",
       "    }\n",
       "</style>\n",
       "<table border=\"1\" class=\"dataframe\">\n",
       "  <thead>\n",
       "    <tr style=\"text-align: right;\">\n",
       "      <th></th>\n",
       "      <th>x1</th>\n",
       "      <th>x2</th>\n",
       "      <th>x3</th>\n",
       "      <th>x4</th>\n",
       "      <th>u</th>\n",
       "    </tr>\n",
       "  </thead>\n",
       "  <tbody>\n",
       "    <tr>\n",
       "      <th>0</th>\n",
       "      <td>0.082673</td>\n",
       "      <td>0.000000</td>\n",
       "      <td>0.000000</td>\n",
       "      <td>0.000000</td>\n",
       "      <td>-4.740200</td>\n",
       "    </tr>\n",
       "    <tr>\n",
       "      <th>1</th>\n",
       "      <td>0.079694</td>\n",
       "      <td>-0.594218</td>\n",
       "      <td>-0.013256</td>\n",
       "      <td>-2.652820</td>\n",
       "      <td>-2.501830</td>\n",
       "    </tr>\n",
       "    <tr>\n",
       "      <th>2</th>\n",
       "      <td>0.072328</td>\n",
       "      <td>-0.855744</td>\n",
       "      <td>-0.046243</td>\n",
       "      <td>-3.952880</td>\n",
       "      <td>-1.259710</td>\n",
       "    </tr>\n",
       "    <tr>\n",
       "      <th>3</th>\n",
       "      <td>0.063185</td>\n",
       "      <td>-0.938703</td>\n",
       "      <td>-0.088494</td>\n",
       "      <td>-4.508920</td>\n",
       "      <td>-0.573565</td>\n",
       "    </tr>\n",
       "    <tr>\n",
       "      <th>4</th>\n",
       "      <td>0.053655</td>\n",
       "      <td>-0.928480</td>\n",
       "      <td>-0.134275</td>\n",
       "      <td>-4.660200</td>\n",
       "      <td>-0.197544</td>\n",
       "    </tr>\n",
       "    <tr>\n",
       "      <th>...</th>\n",
       "      <td>...</td>\n",
       "      <td>...</td>\n",
       "      <td>...</td>\n",
       "      <td>...</td>\n",
       "      <td>...</td>\n",
       "    </tr>\n",
       "    <tr>\n",
       "      <th>195</th>\n",
       "      <td>0.000094</td>\n",
       "      <td>-0.000609</td>\n",
       "      <td>-0.595159</td>\n",
       "      <td>0.126439</td>\n",
       "      <td>0.007883</td>\n",
       "    </tr>\n",
       "    <tr>\n",
       "      <th>196</th>\n",
       "      <td>0.000093</td>\n",
       "      <td>-0.000608</td>\n",
       "      <td>-0.593898</td>\n",
       "      <td>0.126171</td>\n",
       "      <td>0.007866</td>\n",
       "    </tr>\n",
       "    <tr>\n",
       "      <th>197</th>\n",
       "      <td>0.000093</td>\n",
       "      <td>-0.000607</td>\n",
       "      <td>-0.592639</td>\n",
       "      <td>0.125904</td>\n",
       "      <td>0.007850</td>\n",
       "    </tr>\n",
       "    <tr>\n",
       "      <th>198</th>\n",
       "      <td>0.000093</td>\n",
       "      <td>-0.000606</td>\n",
       "      <td>-0.591384</td>\n",
       "      <td>0.125637</td>\n",
       "      <td>0.007833</td>\n",
       "    </tr>\n",
       "    <tr>\n",
       "      <th>199</th>\n",
       "      <td>0.000093</td>\n",
       "      <td>-0.000604</td>\n",
       "      <td>-0.590130</td>\n",
       "      <td>0.125371</td>\n",
       "      <td>0.007817</td>\n",
       "    </tr>\n",
       "  </tbody>\n",
       "</table>\n",
       "<p>200 rows × 5 columns</p>\n",
       "</div>"
      ],
      "text/plain": [
       "           x1        x2        x3        x4         u\n",
       "0    0.082673  0.000000  0.000000  0.000000 -4.740200\n",
       "1    0.079694 -0.594218 -0.013256 -2.652820 -2.501830\n",
       "2    0.072328 -0.855744 -0.046243 -3.952880 -1.259710\n",
       "3    0.063185 -0.938703 -0.088494 -4.508920 -0.573565\n",
       "4    0.053655 -0.928480 -0.134275 -4.660200 -0.197544\n",
       "..        ...       ...       ...       ...       ...\n",
       "195  0.000094 -0.000609 -0.595159  0.126439  0.007883\n",
       "196  0.000093 -0.000608 -0.593898  0.126171  0.007866\n",
       "197  0.000093 -0.000607 -0.592639  0.125904  0.007850\n",
       "198  0.000093 -0.000606 -0.591384  0.125637  0.007833\n",
       "199  0.000093 -0.000604 -0.590130  0.125371  0.007817\n",
       "\n",
       "[200 rows x 5 columns]"
      ]
     },
     "execution_count": 6,
     "metadata": {},
     "output_type": "execute_result"
    }
   ],
   "source": [
    "r1n40"
   ]
  },
  {
   "cell_type": "code",
   "execution_count": 7,
   "id": "e40c97f5",
   "metadata": {},
   "outputs": [
    {
     "data": {
      "text/plain": [
       "<matplotlib.legend.Legend at 0x7c3cbb2b34d0>"
      ]
     },
     "execution_count": 7,
     "metadata": {},
     "output_type": "execute_result"
    },
    {
     "data": {
      "image/png": "[encoded data removed]",
      "text/plain": [
       "<Figure size 640x480 with 1 Axes>"
      ]
     },
     "metadata": {},
     "output_type": "display_data"
    }
   ],
   "source": [
    "t = range(r1n80.shape[0])\n",
    "\n",
    "value = \"x4\"\n",
    "\n",
    "plt.plot(t, r1n40[value], label=\"R-1.0-N-40\")\n",
    "plt.plot(t, r1n80[value], label=\"R-1.0-N-80\")\n",
    "plt.plot(t, r01n40[value], label=\"R-0.1-N-40\")\n",
    "plt.plot(t, r01n80[value], label=\"R-0.1-N-80\")\n",
    "# plt.plot(t, test_data[\"u1\"], label=\"test_data\")\n",
    "plt.legend()"
   ]
  },
  {
   "cell_type": "code",
   "execution_count": 8,
   "id": "8088a903",
   "metadata": {},
   "outputs": [
    {
     "data": {
      "image/png": "[encoded data removed]",
      "text/plain": [
       "<Figure size 640x480 with 1 Axes>"
      ]
     },
     "metadata": {},
     "output_type": "display_data"
    }
   ],
   "source": [
    "t = range(r1n80.shape[0])\n",
    "\n",
    "value = \"x4\"\n",
    "\n",
    "plt.plot(t, r01n40[\"x1\"], label=\"x1\")\n",
    "# plt.plot(t, r01n40[\"x2\"], label=\"x2\")\n",
    "# plt.plot(t, r01n40[\"x3\"], label=\"x3\")\n",
    "# plt.plot(t, r01n40[\"x4\"], label=\"x4\")\n",
    "# plt.plot(t, test_data[\"u1\"], label=\"test_data\")\n",
    "plt.legend()\n",
    "plt.grid()\n",
    "plt.show()"
   ]
  },
  {
   "cell_type": "code",
   "execution_count": 9,
   "id": "db005c1c",
   "metadata": {},
   "outputs": [
    {
     "data": {
      "text/plain": [
       "(np.float64(-5.08761), np.float64(-0.5))"
      ]
     },
     "execution_count": 9,
     "metadata": {},
     "output_type": "execute_result"
    }
   ],
   "source": [
    "a: pd.Series = r01n40[value]\n",
    "\n",
    "a = a.to_numpy()\n",
    "\n",
    "mid_a = float(np.mean(a))\n",
    "\n",
    "range_a = max(a) - min(a)\n",
    "\n",
    "mid_a, range_a\n",
    "\n",
    "# b = (mid_a - range_a / 2) / max(a) \n",
    "# c = (mid_a + range_a / 2) / max(a) \n",
    "\n",
    "# if min(a) < 0:\n",
    "#     ma = max(a)\n",
    "#     MA = ma - min(a)\n",
    "#     b = (a - min(a)) / MA - 0.5\n",
    "# else:\n",
    "#     ma = max(a)\n",
    "#     MA = ma + min(a)\n",
    "#     b = (a + min(a)) / MA - 0.5\n",
    "\n",
    "# u = test_data[\"u1\"].to_numpy()\n",
    "\n",
    "a_max = max(a)\n",
    "a_abs_min = abs(min(a))\n",
    "\n",
    "b = (a + a_abs_min) / (a_max + a_abs_min) - 0.5\n",
    "# c = abs((b + 0.5)) * (a_max + a_abs_min) - a_abs_min\n",
    "# c = (u + abs(min(u))) / (max(u) + abs(min(u))) - 0.5\n",
    "# b\n",
    "\n",
    "a[2], b[2]"
   ]
  },
  {
   "cell_type": "code",
   "execution_count": 10,
   "id": "49fb5029",
   "metadata": {},
   "outputs": [
    {
     "data": {
      "text/plain": [
       "(0.428571, -171.485722, 1.028571, 398, 1.0)"
      ]
     },
     "execution_count": 10,
     "metadata": {},
     "output_type": "execute_result"
    }
   ],
   "source": [
    "MAX = 800\n",
    "\n",
    "x = 0.428571\n",
    "scaleEdgeValue = 0.6\n",
    "# maxVal = MAX * 0.8\n",
    "# minVal = MAX * 0.2\n",
    "\n",
    "maxVal = 208\n",
    "minVal = -190\n",
    "absMinVal = abs(minVal)\n",
    "\n",
    "# X = x/abs(x) * (abs(x) - scaleEdgeValue)  * (maxVal + minVal) + minVal + maxVal * 0.4\n",
    "X = (x + scaleEdgeValue) * (maxVal - absMinVal) + minVal\n",
    "\n",
    "x, X, x + scaleEdgeValue, (maxVal + absMinVal), x/abs(x)"
   ]
  },
  {
   "cell_type": "code",
   "execution_count": 22,
   "id": "283127c2",
   "metadata": {},
   "outputs": [
    {
     "data": {
      "text/plain": [
       "(np.float64(-149.7979797979798),\n",
       " np.float64(-0.398989898989899),\n",
       " np.float64(-149.7979797979798))"
      ]
     },
     "execution_count": 22,
     "metadata": {},
     "output_type": "execute_result"
    }
   ],
   "source": [
    "MAX = 800\n",
    "\n",
    "# a = np.linspace(0.2 * MAX, 0.8 * MAX, 100)\n",
    "a = np.linspace(-190, 208, 100)\n",
    "a_max = max(a)\n",
    "a_abs_min = abs(min(a))\n",
    "b = (a + a_abs_min) / (a_max + a_abs_min) - 0.5\n",
    "c = (b + 0.5) * (a_max + a_abs_min) - a_abs_min\n",
    "a[10], b[10], c[10]"
   ]
  }
 ],
 "metadata": {
  "kernelspec": {
   "display_name": ".env",
   "language": "python",
   "name": "python3"
  },
  "language_info": {
   "codemirror_mode": {
    "name": "ipython",
    "version": 3
   },
   "file_extension": ".py",
   "mimetype": "text/x-python",
   "name": "python",
   "nbconvert_exporter": "python",
   "pygments_lexer": "ipython3",
   "version": "3.12.3"
  }
 },
 "nbformat": 4,
 "nbformat_minor": 5
}
